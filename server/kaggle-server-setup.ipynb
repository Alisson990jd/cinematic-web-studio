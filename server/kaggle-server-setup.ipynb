
{
 "cells": [
  {
   "cell_type": "markdown",
   "metadata": {},
   "source": [
    "# Servidor de Processamento de Vídeo com GPU\n",
    "\n",
    "Este notebook configura e inicia o servidor de processamento de vídeo que será usado pelo editor de vídeo para realizar operações intensivas em GPU."
   ]
  },
  {
   "cell_type": "code",
   "execution_count": null,
   "metadata": {},
   "source": [
    "# Instalar dependências necessárias\n",
    "!pip install flask flask-cors opencv-python torch torchvision tqdm pyngrok"
   ]
  },
  {
   "cell_type": "code",
   "execution_count": null,
   "metadata": {},
   "source": [
    "# Verificar disponibilidade da GPU\n",
    "import torch\n",
    "\n",
    "print(f\"CUDA disponível: {torch.cuda.is_available()}\")\n",
    "if torch.cuda.is_available():\n",
    "    print(f\"Dispositivo: {torch.cuda.get_device_name(0)}\")\n",
    "    print(f\"Número de GPUs: {torch.cuda.device_count()}\")"
   ]
  },
  {
   "cell_type": "code",
   "execution_count": null,
   "metadata": {},
   "source": [
    "# Configurar ngrok\n",
    "from pyngrok import ngrok\n",
    "\n",
    "# Configurar o token do ngrok\n",
    "authtoken = \"1vgZrCA9yJDURy3OK1gNbS2G610_3CX2e2bqT4Ee88uMBk5he\"\n",
    "ngrok.set_auth_token(authtoken)\n",
    "\n",
    "# Iniciar túnel ngrok\n",
    "public_url = ngrok.connect(5000)\n",
    "print(f\"URL pública do servidor: {public_url}\")"
   ]
  },
  {
   "cell_type": "code",
   "execution_count": null,
   "metadata": {},
   "source": [
    "# Copiar o script do servidor para o diretório atual\n",
    "import os\n",
    "\n",
    "# Verificar se o arquivo existe no diretório atual\n",
    "if not os.path.exists(\"kaggle-server.py\"):\n",
    "    # Se não existir, criar um arquivo básico\n",
    "    print(\"Criando arquivo do servidor...\")\n",
    "    with open(\"kaggle-server.py\", \"w\") as f:\n",
    "        f.write('''\n",
    "# Cole aqui o conteúdo do arquivo kaggle-server.py\n",
    "# Ou importe o arquivo do seu repositório\n",
    "''')"
   ]
  },
  {
   "cell_type": "code",
   "execution_count": null,
   "metadata": {},
   "source": [
    "# Iniciar o servidor Flask em segundo plano\n",
    "import subprocess\n",
    "import sys\n",
    "\n",
    "server_process = subprocess.Popen([sys.executable, \"kaggle-server.py\"])\n",
    "print(\"Servidor iniciado em segundo plano.\")"
   ]
  },
  {
   "cell_type": "markdown",
   "metadata": {},
   "source": [
    "## URL do Servidor\n",
    "\n",
    "Use a URL pública fornecida acima para conectar o cliente do editor de vídeo ao servidor de processamento.\n",
    "\n",
    "Para testar a conexão, acesse `{URL_PUBLICA}/health` no navegador."
   ]
  },
  {
   "cell_type": "code",
   "execution_count": null,
   "metadata": {},
   "source": [
    "# Para encerrar o servidor quando terminar de usar\n",
    "def shutdown_server():\n",
    "    if 'server_process' in globals():\n",
    "        server_process.terminate()\n",
    "        print(\"Servidor encerrado.\")\n",
    "    \n",
    "    # Desconectar ngrok\n",
    "    ngrok.disconnect(public_url)\n",
    "    print(\"Túnel ngrok encerrado.\")\n",
    "\n",
    "# Executar manualmente esta célula quando quiser encerrar o servidor\n",
    "# shutdown_server()"
   ]
  }
 ],
 "metadata": {
  "kernelspec": {
   "display_name": "Python 3",
   "language": "python",
   "name": "python3"
  },
  "language_info": {
   "codemirror_mode": {
    "name": "ipython",
    "version": 3
   },
   "file_extension": ".py",
   "mimetype": "text/x-python",
   "name": "python",
   "nbconvert_exporter": "python",
   "pygments_lexer": "ipython3",
   "version": "3.7.12"
  }
 },
 "nbformat": 4,
 "nbformat_minor": 4
}
