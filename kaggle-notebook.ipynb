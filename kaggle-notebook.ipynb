
{
 "cells": [
  {
   "cell_type": "markdown",
   "metadata": {},
   "source": [
    "# Video Editor Setup on Kaggle\n",
    "This notebook sets up and runs the video editor application with GPU support"
   ]
  },
  {
   "cell_type": "code",
   "execution_count": null,
   "metadata": {},
   "source": [
    "!apt-get update && apt-get install -y nodejs npm wget\n",
    "!npm install -g pnpm\n",
    "!wget https://bin.equinox.io/c/bNyj1mQVY4c/ngrok-v3-stable-linux-amd64.tgz\n",
    "!tar -xvzf ngrok-v3-stable-linux-amd64.tgz\n",
    "!mv ngrok /usr/local/bin"
   ]
  },
  {
   "cell_type": "code",
   "execution_count": null,
   "metadata": {},
   "source": [
    "!ngrok config add-authtoken 1vgZrCA9yJDURy3OK1gNbS2G610_3CX2e2bqT4Ee88uMBk5he"
   ]
  },
  {
   "cell_type": "code",
   "execution_count": null,
   "metadata": {},
   "source": [
    "!pnpm install\n",
    "print(\"Starting the application...\")\n",
    "!pnpm run dev & ngrok http 8080"
   ]
  }
 ],
 "metadata": {
  "accelerator": "GPU",
  "kernelspec": {
   "display_name": "Python 3",
   "language": "python",
   "name": "python3"
  }
 }
}
